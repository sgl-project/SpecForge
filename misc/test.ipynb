{
 "cells": [
  {
   "cell_type": "code",
   "execution_count": 1,
   "metadata": {},
   "outputs": [
    {
     "name": "stderr",
     "output_type": "stream",
     "text": [
      "/sgl-workspace/venvs/eagle-train/lib/python3.11/site-packages/tqdm/auto.py:21: TqdmWarning: IProgress not found. Please update jupyter and ipywidgets. See https://ipywidgets.readthedocs.io/en/stable/user_install.html\n",
      "  from .autonotebook import tqdm as notebook_tqdm\n",
      "Loading checkpoint shards: 100%|██████████| 4/4 [00:00<00:00, 134.30it/s]\n"
     ]
    }
   ],
   "source": [
    "from sgl_eagle.core.eagle import EagleRunner\n",
    "\n",
    "eagle_runner = EagleRunner(base_model_path=\"meta-llama/Llama-3.1-8B-Instruct\", draft_model_path=\"jamesliu1/sglang-EAGLE3-Llama-3.1-Instruct-8B\")"
   ]
  },
  {
   "cell_type": "code",
   "execution_count": 2,
   "metadata": {},
   "outputs": [
    {
     "name": "stdout",
     "output_type": "stream",
     "text": [
      "Ranking countries can be subjective and depend on various factors such as economic indicators, quality of life, education, healthcare, and more. Here's a list of the top 10 countries in the world based on various reports and indices, such as the Human Development Index (HDI), the Global Peace Index (GPI), and the World Happiness Report:\n",
      "\n",
      "1. **Norway**: Known for its high standard of living, low crime rate, and excellent education system. (HDI: 0.961, GPI: 1.083)\n",
      "2. **Switzerland**: Famous for its neutrality, stability, and high standard of living. (HDI: 0.956, GPI: 1.136)\n",
      "3. **Ireland**: Boasts a strong economy, high standard of living, and excellent education system. (HDI: 0.955, GPI: 1.143)\n",
      "4. **Germany**: A leader in innovation, economy, and education, with a high standard of living. (HDI: 0.947, GPI: 1.193)\n",
      "5. **Australia**: Known for its high standard of living, excellent education system, and stunning natural beauty. (HDI: 0.945, GPI: 1.204)\n",
      "6. **Sweden**: Famous for its social welfare system, high standard of living, and excellent education system. (HDI: 0.944, GPI: 1.212)\n",
      "7. **New Zealand**: Boasts a high standard of living, stunning natural beauty, and excellent education system. (HDI: 0.937, GPI: 1.244)\n",
      "8. **Denmark**: Known for its high standard of living, excellent education system, and social welfare system. (HDI: 0.936, GPI: 1.253)\n",
      "9. **Canada**: Famous for its high standard of living, excellent education system, and stunning natural beauty. (HDI: 0.935, GPI: 1.262)\n",
      "10. **Finland**: Boasts a high standard of living, excellent education system, and innovative economy. (HDI: 0.933, GPI: 1.273)\n",
      "\n",
      "Please note that these rankings can vary depending on the source and methodology used.\n"
     ]
    }
   ],
   "source": [
    "out = eagle_runner.run(\"List top 10 countries in the world\", enable_eagle=True, max_new_tokens=1024)\n",
    "print(out[0])"
   ]
  },
  {
   "cell_type": "code",
   "execution_count": null,
   "metadata": {},
   "outputs": [],
   "source": []
  }
 ],
 "metadata": {
  "kernelspec": {
   "display_name": "eagle-train",
   "language": "python",
   "name": "python3"
  },
  "language_info": {
   "codemirror_mode": {
    "name": "ipython",
    "version": 3
   },
   "file_extension": ".py",
   "mimetype": "text/x-python",
   "name": "python",
   "nbconvert_exporter": "python",
   "pygments_lexer": "ipython3",
   "version": "3.11.12"
  }
 },
 "nbformat": 4,
 "nbformat_minor": 2
}
